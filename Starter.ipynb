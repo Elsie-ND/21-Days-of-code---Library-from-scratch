{
 "cells": [
  {
   "cell_type": "markdown",
   "id": "c07b2d8e-3cd6-4f16-8146-6068e179ed47",
   "metadata": {},
   "source": [
    "## Load Data"
   ]
  },
  {
   "cell_type": "markdown",
   "id": "f34bdf36-a73b-4ccc-b93d-ccccfe0f36b0",
   "metadata": {},
   "source": [
    "## EDA"
   ]
  },
  {
   "cell_type": "markdown",
   "id": "bd0809a4-a74a-434b-81bd-2e6a5f019740",
   "metadata": {},
   "source": [
    "## Data Preprocessing - Mislabel, Spurious Values, Data type mismatch"
   ]
  },
  {
   "cell_type": "markdown",
   "id": "3863097a-75ff-4b16-9273-8c1ad5b0ae5f",
   "metadata": {},
   "source": [
    "## Data Cleaning - Feature Pruning, Missing values, Duplicates, Outliers, Skewness."
   ]
  },
  {
   "cell_type": "markdown",
   "id": "07e99208-7832-467b-9e75-a498d7c58d59",
   "metadata": {},
   "source": [
    "## Data Transformation - Scale, STD error, Normal distribution"
   ]
  },
  {
   "cell_type": "markdown",
   "id": "817440a2-c5ab-4639-9f25-c77d3c5a741a",
   "metadata": {},
   "source": [
    "## Feature Selection - Univarite, RFE, PCA, Featue Importance"
   ]
  },
  {
   "cell_type": "code",
   "execution_count": null,
   "id": "d0ad4051-b12e-436b-8930-058180210e21",
   "metadata": {},
   "outputs": [],
   "source": []
  }
 ],
 "metadata": {
  "kernelspec": {
   "display_name": "Python 3 (ipykernel)",
   "language": "python",
   "name": "python3"
  },
  "language_info": {
   "codemirror_mode": {
    "name": "ipython",
    "version": 3
   },
   "file_extension": ".py",
   "mimetype": "text/x-python",
   "name": "python",
   "nbconvert_exporter": "python",
   "pygments_lexer": "ipython3",
   "version": "3.11.7"
  }
 },
 "nbformat": 4,
 "nbformat_minor": 5
}
