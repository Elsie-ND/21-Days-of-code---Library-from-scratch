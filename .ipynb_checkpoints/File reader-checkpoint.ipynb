{
 "cells": [
  {
   "cell_type": "markdown",
   "id": "7c8552bb-4331-49df-8894-95a6ad75a72b",
   "metadata": {},
   "source": [
    "\"\"\" This function reads csv data from any file path provided and returns the data.\n",
    "    To use the fuction, it may be called in either of two ways:\n",
    "    \n",
    "    >>> file_path = r\"path\\to\\your\\file.csv\"\n",
    "    >>> file_reder = (file_path)\n",
    "                or\n",
    "    >>> file_reader(r\"path\\to\\your\\file.csv\")\n",
    "\"\"\""
   ]
  },
  {
   "cell_type": "code",
   "execution_count": 2,
   "id": "af85b844-29a7-4234-a71f-d17f68cbd9b3",
   "metadata": {},
   "outputs": [],
   "source": [
    "import pandas as pd\n",
    "\n",
    "def file_reader(file_path):\n",
    "    try:\n",
    "        # Attempt to read the CSV file from the provided file path\n",
    "        data = pd.read_csv(file_path)\n",
    "        return data\n",
    "    except FileNotFoundError:\n",
    "        # Handle the case when the file does not exist\n",
    "        print(f\"File not found at the specified path: {file_path}\")\n",
    "        return None\n",
    "    except pd.errors.EmptyDataError:\n",
    "        # Handle the case when the file is empty\n",
    "        print(\"The file is empty.\")\n",
    "        return None\n",
    "    except pd.errors.ParserError:\n",
    "        # Handle errors while parsing the CSV (e.g., wrong format)\n",
    "        print(\"Error parsing the file. Please check the file format.\")\n",
    "        return None\n",
    "    except Exception as e:\n",
    "        # Handle any other unforeseen exceptions\n",
    "        print(f\"An unexpected error occurred: {e}\")\n",
    "        return None\n",
    "\n",
    "        "
   ]
  },
  {
   "cell_type": "code",
   "execution_count": 5,
   "id": "2226aab9-2feb-45e2-9962-df69688e2e46",
   "metadata": {},
   "outputs": [],
   "source": [
    "data = file_reader(file_path)"
   ]
  },
  {
   "cell_type": "code",
   "execution_count": 8,
   "id": "ae19075b-9d10-4774-be72-c0f269168b46",
   "metadata": {},
   "outputs": [],
   "source": [
    "file_path = r\"C:\\Users\\USER\\Desktop\\Telco-CustomerData_d.csv\""
   ]
  },
  {
   "cell_type": "code",
   "execution_count": null,
   "id": "8773f82a-33b7-4769-acf5-82ad643a4acc",
   "metadata": {},
   "outputs": [],
   "source": []
  }
 ],
 "metadata": {
  "kernelspec": {
   "display_name": "Python 3 (ipykernel)",
   "language": "python",
   "name": "python3"
  },
  "language_info": {
   "codemirror_mode": {
    "name": "ipython",
    "version": 3
   },
   "file_extension": ".py",
   "mimetype": "text/x-python",
   "name": "python",
   "nbconvert_exporter": "python",
   "pygments_lexer": "ipython3",
   "version": "3.12.4"
  }
 },
 "nbformat": 4,
 "nbformat_minor": 5
}
